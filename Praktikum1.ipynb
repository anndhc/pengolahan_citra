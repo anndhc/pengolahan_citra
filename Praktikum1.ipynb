{
  "nbformat": 4,
  "nbformat_minor": 0,
  "metadata": {
    "colab": {
      "provenance": [],
      "authorship_tag": "ABX9TyP6kFYXSkbqy1pxCg/JSDz2",
      "include_colab_link": true
    },
    "kernelspec": {
      "name": "python3",
      "display_name": "Python 3"
    },
    "language_info": {
      "name": "python"
    }
  },
  "cells": [
    {
      "cell_type": "markdown",
      "metadata": {
        "id": "view-in-github",
        "colab_type": "text"
      },
      "source": [
        "<a href=\"https://colab.research.google.com/github/anndhc/pengolahan_citra/blob/main/Praktikum1.ipynb\" target=\"_parent\"><img src=\"https://colab.research.google.com/assets/colab-badge.svg\" alt=\"Open In Colab\"/></a>"
      ]
    },
    {
      "cell_type": "code",
      "execution_count": 2,
      "metadata": {
        "colab": {
          "base_uri": "https://localhost:8080/",
          "height": 106
        },
        "id": "nWLALEchA8tI",
        "outputId": "d8cfbce6-85e2-4f81-d078-1e13e04852a4"
      },
      "outputs": [
        {
          "output_type": "error",
          "ename": "IndentationError",
          "evalue": "unindent does not match any outer indentation level (<tokenize>, line 22)",
          "traceback": [
            "\u001b[0;36m  File \u001b[0;32m\"<tokenize>\"\u001b[0;36m, line \u001b[0;32m22\u001b[0m\n\u001b[0;31m    gambar_list = [gambar_coins, gambar_camera, gambar_astronaut]\u001b[0m\n\u001b[0m    ^\u001b[0m\n\u001b[0;31mIndentationError\u001b[0m\u001b[0;31m:\u001b[0m unindent does not match any outer indentation level\n"
          ]
        }
      ],
      "source": [
        "import numpy as np\n",
        "import matplotlib.pyplot as plt 03: from skimage import data\n",
        "\n",
        "# Contoh gambar dari scikit-image\n",
        "gambar_coins = data.coins()\n",
        "gambar_camera = data.camera()\n",
        "gambar_astronaut = data.astronaut()\n",
        "\n",
        "# Fungsi untuk menghitung ukuran gambar dalam bit, byte, KB, MB\n",
        "  def hitung_ukuran(image):\n",
        "     bit_per_pixel = 8 if len(image.shape) == 2 else 24  # Grayscale = 8 bit, RGB = 24 bit\n",
        "     total_pixels = image.shape[0] * image.shape[1]\n",
        "     total_bits = total_pixels * bit_per_pixel\n",
        "     total_bytes = total_bits / 8\n",
        "     total_kb = total_bytes / 1024\n",
        "     total_mb = total_kb / 1024\n",
        "     return total_bits, total_bytes, total_kb, total_mb\n",
        "\n",
        "# Menyusun gambar dan ukurannya dalam satu baris 21: fig, axes = plt.subplots(1, 3, figsize=(15, 5))\n",
        "\n",
        "# Daftar gambar dan nama\n",
        " gambar_list = [gambar_coins, gambar_camera, gambar_astronaut]\n",
        " nama_list = [\"Coins\", \"Camera\", \"Astronaut\"]\n",
        "\n",
        " for ax, img, nama in zip(axes, gambar_list, nama_list):\n",
        "     bits, bytes_, kb, mb = hitung_ukuran(img)\n",
        "     ax.imshow(img, cmap='gray' if len(img.shape) == 2 else None)\n",
        "     ax.set_title(f\"{nama}\\n{bits} bit, {bytes_:.2f} B\\n{kb:.2f} KB, {mb:.4f} MB\")\n",
        "     ax.axis('off')\n",
        "\n",
        "plt.tight_layout()\n",
        "plt.show()\n"
      ]
    }
  ]
}